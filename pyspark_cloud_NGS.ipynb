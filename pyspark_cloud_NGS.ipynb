{
  "nbformat": 4,
  "nbformat_minor": 0,
  "metadata": {
    "colab": {
      "name": "pyspark_cloud_NGS.ipynb",
      "provenance": [],
      "collapsed_sections": [],
      "toc_visible": true
    },
    "kernelspec": {
      "name": "python3",
      "display_name": "Python 3"
    },
    "accelerator": "GPU"
  },
  "cells": [
    {
      "cell_type": "markdown",
      "metadata": {
        "id": "dicDFSmQJbCJ"
      },
      "source": [
        "# pyspark_cloud_NGS"
      ]
    },
    {
      "cell_type": "markdown",
      "metadata": {
        "id": "wiIag0ux7r7D"
      },
      "source": [
        "## Analysis of NGS data with PySpark"
      ]
    },
    {
      "cell_type": "markdown",
      "metadata": {
        "id": "P2qVgWQRHoD7"
      },
      "source": [
        "\n",
        "\n",
        "```\n",
        "# Ce texte est au format code\n",
        "```\n",
        "\n",
        "\n",
        "## Install SRA tools, download and extract sequences from SRA files\n",
        "- download sra tools"
      ]
    },
    {
      "cell_type": "code",
      "metadata": {
        "id": "IL3mE2NidGfo",
        "colab": {
          "base_uri": "https://localhost:8080/"
        },
        "outputId": "86880cfc-99e1-49ac-ae78-4310a4973cba"
      },
      "source": [
        "import os\n",
        "def setup_sra_tool(url):\n",
        "  os.chdir('/content')\n",
        "  !wget $url\n",
        "  !gunzip sratoolkit.2.9.6-1-ubuntu64.tar.gz\n",
        "  !tar -xf sratoolkit.2.9.6-1-ubuntu64.tar\n",
        "\n",
        "\n",
        "def get_sra(url, sra_path):\n",
        "  os.chdir('/content')\n",
        "  !wget $url\n",
        "  sra_name = url[-11:]\n",
        "  os.chdir(sra_path)\n",
        "  !./fastq-dump /content/$sra_name -O /content/\n",
        "  os.chdir('/content')\n",
        "  \n",
        "# set up SRA toolkit\n",
        "url_tk= 'https://ftp-trace.ncbi.nlm.nih.gov/sra/sdk/2.9.6-1/sratoolkit.2.9.6-1-ubuntu64.tar.gz'\n",
        "setup_sra_tool(url_tk)\n",
        "\n",
        "# download and extract sra file\n",
        "sra_url = 'https://sra-download.ncbi.nlm.nih.gov/traces/era6/ERR/ERR3014/ERR3014700'\n",
        "tool_path = '/content/sratoolkit.2.9.6-1-ubuntu64/bin'\n",
        "get_sra(sra_url, tool_path)"
      ],
      "execution_count": 1,
      "outputs": [
        {
          "output_type": "stream",
          "text": [
            "--2021-02-09 18:49:56--  https://ftp-trace.ncbi.nlm.nih.gov/sra/sdk/2.9.6-1/sratoolkit.2.9.6-1-ubuntu64.tar.gz\n",
            "Resolving ftp-trace.ncbi.nlm.nih.gov (ftp-trace.ncbi.nlm.nih.gov)... 130.14.250.13, 2607:f220:41e:250::11, 2607:f220:41e:250::12, ...\n",
            "Connecting to ftp-trace.ncbi.nlm.nih.gov (ftp-trace.ncbi.nlm.nih.gov)|130.14.250.13|:443... connected.\n",
            "HTTP request sent, awaiting response... 200 OK\n",
            "Length: 84492294 (81M) [application/x-gzip]\n",
            "Saving to: ‘sratoolkit.2.9.6-1-ubuntu64.tar.gz’\n",
            "\n",
            "sratoolkit.2.9.6-1- 100%[===================>]  80.58M  35.7MB/s    in 2.3s    \n",
            "\n",
            "2021-02-09 18:49:59 (35.7 MB/s) - ‘sratoolkit.2.9.6-1-ubuntu64.tar.gz’ saved [84492294/84492294]\n",
            "\n",
            "--2021-02-09 18:50:01--  https://sra-download.ncbi.nlm.nih.gov/traces/era6/ERR/ERR3014/ERR3014700\n",
            "Resolving sra-download.ncbi.nlm.nih.gov (sra-download.ncbi.nlm.nih.gov)... 165.112.9.231, 165.112.9.232, 165.112.9.235\n",
            "Connecting to sra-download.ncbi.nlm.nih.gov (sra-download.ncbi.nlm.nih.gov)|165.112.9.231|:443... connected.\n",
            "HTTP request sent, awaiting response... 200 OK\n",
            "Length: 176233092 (168M) [application/octet-stream]\n",
            "Saving to: ‘ERR3014700’\n",
            "\n",
            "ERR3014700          100%[===================>] 168.07M  50.6MB/s    in 3.8s    \n",
            "\n",
            "2021-02-09 18:50:06 (44.4 MB/s) - ‘ERR3014700’ saved [176233092/176233092]\n",
            "\n",
            "Read 460789 spots for /content//ERR3014700\n",
            "Written 460789 spots for /content//ERR3014700\n"
          ],
          "name": "stdout"
        }
      ]
    },
    {
      "cell_type": "markdown",
      "metadata": {
        "id": "5CqGYFqWIgLL"
      },
      "source": [
        "## Fastq class to process the fastq file"
      ]
    },
    {
      "cell_type": "code",
      "metadata": {
        "id": "90NOtPuiTX2H",
        "colab": {
          "base_uri": "https://localhost:8080/"
        },
        "outputId": "eb34b0f2-cc1e-4e25-9d4f-a3971b77c0b2"
      },
      "source": [
        "# py4javaerror happen when the path of the file is not correct\n",
        "!pip install pyspark[sql]\n",
        "\n",
        "from __future__ import print_function\n",
        "from functools import wraps\n",
        "import pyspark as spark\n",
        "from pyspark import SparkConf\n",
        "import time\n",
        "from operator import add\n",
        "import os \n",
        "from subprocess import STDOUT, check_call, check_output\n",
        "\n",
        "\n",
        "\n",
        "class Fastq:\n",
        "    def __init__(self, path:str) -> str:\n",
        "        self.path = path\n",
        "        self.install_java_scala()\n",
        "        self.stop_context()\n",
        "        self.sc = spark.SparkContext.getOrCreate(conf=self.set_conf())\n",
        "        self.data = self.sc.textFile(self.path)\n",
        "\n",
        "    def stop_context(self):\n",
        "        try:\n",
        "          self.sc.stop()\n",
        "        except:\n",
        "          pass\n",
        "\n",
        "    def set_conf(self):\n",
        "        conf = SparkConf().setAppName(\"App\")\n",
        "        conf = (conf.setMaster('local[*]')\n",
        "          .set('spark.executor.memory', '4G')\n",
        "          .set('spark.driver.memory', '16G')\n",
        "          .set('spark.driver.maxResultSize', '8G'))\n",
        "        return conf\n",
        "\n",
        "    def install_java_scala(self):\n",
        "        try:\n",
        "          java_ver = check_output(['java', '-version'], stderr=STDOUT)\n",
        "        except:\n",
        "          java_ver = b''\n",
        "        try:\n",
        "          scala_ver = check_output(['scala', '-version'], stderr=STDOUT)\n",
        "        except:\n",
        "          scala_ver = b''\n",
        "        if b'1.8.0_232' not in java_ver:\n",
        "          java_8_install = ['apt-get', '--quiet', 'install',\n",
        "                            '-y', 'openjdk-8-jdk-headless']\n",
        "          java_set_alt = ['update-alternatives', '--set', 'java', \n",
        "                          '/usr/lib/jvm/java-8-openjdk-amd64/jre/bin/java' ] \n",
        "          check_call(java_8_install, stdout=open(os.devnull, 'wb'), \n",
        "                     stderr=STDOUT)\n",
        "          os.environ[\"JAVA_HOME\"] = \"/usr/lib/jvm/java-8-openjdk-amd64\" \n",
        "          check_call(java_set_alt)  \n",
        "        if b'2.11.12' not in scala_ver:\n",
        "          scala_install = ['apt-get', '--quiet', 'install', 'scala']\n",
        "          check_call(scala_install)\n",
        "          \n",
        "\n",
        "    def _logging(func):\n",
        "        @wraps(func)\n",
        "        def log_print(instance, *args, **kwargs):\n",
        "          start = time.time()\n",
        "          res = func(instance, *args, **kwargs)\n",
        "          print(\"Finished Executing {}  in {}s!\".format(func.__name__, time.time() - start))\n",
        "          return res\n",
        "        return log_print\n",
        "\n",
        "    @_logging\n",
        "    def get_data(self):\n",
        "        return self.data\n",
        "\n",
        "\n",
        "    @_logging\n",
        "    def count_bases(self):\n",
        "      seqs = self.extract_seq()\n",
        "      seqs = seqs.flatMap(lambda line: list(line)) \n",
        "      seqs = seqs.map(lambda c: (c, 1))\n",
        "      return seqs.reduceByKey(lambda a, b: a+b)#\\\n",
        "            #  .map(lambda c: (c, 1)) \\\n",
        "            #  .reduceByKey(lambda k1, k2: k1 + k2)\n",
        "      # counts.saveAsTextFile('outputs')\n",
        "      # print(\"saved output\")\n",
        "\n",
        "    @_logging\n",
        "    def count_bases(self):\n",
        "      seqs = self.extract_seq()\n",
        "      seqs = seqs.flatMap(lambda line: line.split())\n",
        "      return seqs\n",
        "\n",
        "    @_logging\n",
        "    def extract_seq(self):\n",
        "        return self.data.filter(lambda x: x.isalpha())\n",
        "\n",
        "    @_logging\n",
        "    def get_lengths(self):\n",
        "        seqs = self.extract_seq()\n",
        "        return seqs.map(lambda x: len(x))\n",
        "\n",
        "    def extract_qual(self):\n",
        "        pass\n",
        "\n",
        "    def extract_meta(self):\n",
        "        pass"
      ],
      "execution_count": 2,
      "outputs": [
        {
          "output_type": "stream",
          "text": [
            "Collecting pyspark[sql]\n",
            "\u001b[?25l  Downloading https://files.pythonhosted.org/packages/f0/26/198fc8c0b98580f617cb03cb298c6056587b8f0447e20fa40c5b634ced77/pyspark-3.0.1.tar.gz (204.2MB)\n",
            "\u001b[K     |████████████████████████████████| 204.2MB 80kB/s \n",
            "\u001b[?25hCollecting py4j==0.10.9\n",
            "\u001b[?25l  Downloading https://files.pythonhosted.org/packages/9e/b6/6a4fb90cd235dc8e265a6a2067f2a2c99f0d91787f06aca4bcf7c23f3f80/py4j-0.10.9-py2.py3-none-any.whl (198kB)\n",
            "\u001b[K     |████████████████████████████████| 204kB 52.9MB/s \n",
            "\u001b[?25hRequirement already satisfied: pandas>=0.23.2 in /usr/local/lib/python3.6/dist-packages (from pyspark[sql]) (1.1.5)\n",
            "Collecting pyarrow>=0.15.1\n",
            "\u001b[?25l  Downloading https://files.pythonhosted.org/packages/33/67/2f4fcce1b41bcc7e88a6bfdb42046597ae72e5bc95c2789b7c5ac893c433/pyarrow-3.0.0-cp36-cp36m-manylinux2014_x86_64.whl (20.7MB)\n",
            "\u001b[K     |████████████████████████████████| 20.7MB 83.5MB/s \n",
            "\u001b[?25hRequirement already satisfied: pytz>=2017.2 in /usr/local/lib/python3.6/dist-packages (from pandas>=0.23.2->pyspark[sql]) (2018.9)\n",
            "Requirement already satisfied: python-dateutil>=2.7.3 in /usr/local/lib/python3.6/dist-packages (from pandas>=0.23.2->pyspark[sql]) (2.8.1)\n",
            "Requirement already satisfied: numpy>=1.15.4 in /usr/local/lib/python3.6/dist-packages (from pandas>=0.23.2->pyspark[sql]) (1.19.5)\n",
            "Requirement already satisfied: six>=1.5 in /usr/local/lib/python3.6/dist-packages (from python-dateutil>=2.7.3->pandas>=0.23.2->pyspark[sql]) (1.15.0)\n",
            "Building wheels for collected packages: pyspark\n",
            "  Building wheel for pyspark (setup.py) ... \u001b[?25l\u001b[?25hdone\n",
            "  Created wheel for pyspark: filename=pyspark-3.0.1-py2.py3-none-any.whl size=204612242 sha256=966c6e2f049e57328a7339c89e7cdd83e5d56614e63d1bc682ffd417a80a5d41\n",
            "  Stored in directory: /root/.cache/pip/wheels/5e/bd/07/031766ca628adec8435bb40f0bd83bb676ce65ff4007f8e73f\n",
            "Successfully built pyspark\n",
            "Installing collected packages: py4j, pyarrow, pyspark\n",
            "  Found existing installation: pyarrow 0.14.1\n",
            "    Uninstalling pyarrow-0.14.1:\n",
            "      Successfully uninstalled pyarrow-0.14.1\n",
            "Successfully installed py4j-0.10.9 pyarrow-3.0.0 pyspark-3.0.1\n"
          ],
          "name": "stdout"
        }
      ]
    },
    {
      "cell_type": "code",
      "metadata": {
        "id": "tkYx7OZNdd5a"
      },
      "source": [
        "# read file\n",
        "os.chdir('/content')\n",
        "fasta = Fastq('ERR3014700.fastq')"
      ],
      "execution_count": 3,
      "outputs": []
    },
    {
      "cell_type": "code",
      "metadata": {
        "id": "XJtvsf8ivr3d",
        "colab": {
          "base_uri": "https://localhost:8080/"
        },
        "outputId": "8b8b5813-53b7-4ac7-cfbc-5de50d0c04ae"
      },
      "source": [
        "# show first read\n",
        "fasta.data.take(4)"
      ],
      "execution_count": 4,
      "outputs": [
        {
          "output_type": "execute_result",
          "data": {
            "text/plain": [
              "['@ERR3014700.1 M01569:152:000000000-AMPKW:1:1101:15463:1067 length=523',\n",
              " 'CGAACTGAGCTACGATGACCACGAAGTCGAACTATACCGGGCGTTGGACGCTTATCGGGCGCGCATCGCCGTCGAGTACGTGCTGATTCGCGCCGTGCGCGACGAGATCTANNCTNNACTACGACGGGACAGCGGCGCGTTGCCACAGCGTTTCGCCTGCCACGTGCCACGGAACNTGTCNNNNNNNGTTGTTTGGGAACTTTGCCGTNATNNCTTGGCGCTNTGCAGAGCGCCAAGGCNNGANGGNNANNTTCCCAAACAANGCGCCAGGACANGTTCCGTNGNNNNTGGCAGGCGAAACGCTGTGGCAACGCGCCGCTGTCCCGTCGTAGTACAGCGTAGATCTCGTCGCGCACGGCGCGNNNNNGNCCGTACTCNACGGCGATGCGCGCCCGATAAGCGNCNAAAGCCCGGTNANGTTCGACGTCGTGGTCATCGTAGNTCAGNTNGAGNTCGGAAGANNGNNNGGAGGGTAAGAGTTTAGANNNCGGGTGTGTCCGTANACNTAAAAAAANAAATAATA',\n",
              " '+ERR3014700.1 M01569:152:000000000-AMPKW:1:1101:15463:1067 length=523',\n",
              " 'CCCCCGGGEFGGGGGGFCFGGGGGFEGGGGGGGGGCGGGEEEEFGGGGGGGGEGGGGCCG>FGGGGGGGCEBFFDFGGF>EFGFGFFFGGGGGGDGEEECFGGGGGGGGGG##::##::@CFEGCFEDEGF7FEEGGGGGGGEGGGGGGDECECD8E5*;;:EECFFFFD>C:E>#*2AF#######12;EFC;88E8+*<FG:EFG=#*2##21:C56ED5#19BCC9<FGGGGGGGG##::#=C##:##::CCCEFGFGF#,:CEFGCCFG8#:CFFGGG#:####9:CFB@FEE7FF:F7=FFGGG8EFGGFGGGGGGGFE<:,@F@EEGGGA@DGFG78FFEDFGGGEG>ECE+BCEC#####1#*6**4==,#4//*4>C:>E5:EGEGDGC559C1#/#*2*87D35))#)#*/017*))1))08))179*)57)#))),#0#)..#)07<37>4##1###0))-,>0099/=.***1)###0)0)*00))*)191#.)#.)11**1>#101*)+++']"
            ]
          },
          "metadata": {
            "tags": []
          },
          "execution_count": 4
        }
      ]
    },
    {
      "cell_type": "code",
      "metadata": {
        "id": "jlU33pP4xRDm",
        "colab": {
          "base_uri": "https://localhost:8080/"
        },
        "outputId": "f4e0b9e0-2e40-4e9c-8db7-e0e510874cd8"
      },
      "source": [
        "# show read count\n",
        "fasta.data.count()"
      ],
      "execution_count": 5,
      "outputs": [
        {
          "output_type": "execute_result",
          "data": {
            "text/plain": [
              "1843156"
            ]
          },
          "metadata": {
            "tags": []
          },
          "execution_count": 5
        }
      ]
    },
    {
      "cell_type": "code",
      "metadata": {
        "id": "R1aW6vCOw3Kv",
        "colab": {
          "base_uri": "https://localhost:8080/"
        },
        "outputId": "556d702e-a25d-4c0b-a335-c3da49b52485"
      },
      "source": [
        "# extract sequences alone from the fastq file\n",
        "seqs = fasta.extract_seq()"
      ],
      "execution_count": 6,
      "outputs": [
        {
          "output_type": "stream",
          "text": [
            "Finished Executing extract_seq  in 0.0005970001220703125s!\n"
          ],
          "name": "stdout"
        }
      ]
    },
    {
      "cell_type": "code",
      "metadata": {
        "id": "7BgBih2aw7T7",
        "colab": {
          "base_uri": "https://localhost:8080/"
        },
        "outputId": "f7f5c5fe-9d4a-4dba-ff2b-22529665d2cc"
      },
      "source": [
        "seqs.take(4)"
      ],
      "execution_count": 7,
      "outputs": [
        {
          "output_type": "execute_result",
          "data": {
            "text/plain": [
              "['CGAACTGAGCTACGATGACCACGAAGTCGAACTATACCGGGCGTTGGACGCTTATCGGGCGCGCATCGCCGTCGAGTACGTGCTGATTCGCGCCGTGCGCGACGAGATCTANNCTNNACTACGACGGGACAGCGGCGCGTTGCCACAGCGTTTCGCCTGCCACGTGCCACGGAACNTGTCNNNNNNNGTTGTTTGGGAACTTTGCCGTNATNNCTTGGCGCTNTGCAGAGCGCCAAGGCNNGANGGNNANNTTCCCAAACAANGCGCCAGGACANGTTCCGTNGNNNNTGGCAGGCGAAACGCTGTGGCAACGCGCCGCTGTCCCGTCGTAGTACAGCGTAGATCTCGTCGCGCACGGCGCGNNNNNGNCCGTACTCNACGGCGATGCGCGCCCGATAAGCGNCNAAAGCCCGGTNANGTTCGACGTCGTGGTCATCGTAGNTCAGNTNGAGNTCGGAAGANNGNNNGGAGGGTAAGAGTTTAGANNNCGGGTGTGTCCGTANACNTAAAAAAANAAATAATA',\n",
              " 'GTCGTTTTGTTCACCGTCGCTGTGCAACGCGTGAAACAAGAGCGTGATGCGCACCTTCGGCGGTATGAAGAACGATTACGGAAAAACCGCGCACGGCGTCGGCAGTCTTTTNNGTNNCTTTGGGCGATGGGTCCGAGCTGCGGTATGGGTCACGGCGGCGTGTGTTTTATTGACGNAGATNNNNNNNTGTGACTAAAAACGTCCCAGCNCCAGAGCGATATGNTTAAATAAAAAAAATANGAAGTATTNTATTATGCGTGTCCTGGTTTTTATTTTTTGGATGNNTNGTNCCCATAAGGGTATGTTTCATCCTCNNACNTCNNCNNCCTTTATGCGANACATACATCCANAAATGAANANNNNGGACACGCATAATATGATACTACATATTTTTTTTATTGAAACATATCGCTCTGGGGCTGGGACGTTTTTAGTCANNNNNCNGCATCTTCGTCAATAAAAAAAACGCCGCCGTGACCNATACCGCCGTCAGGAACCATCACCCAAAGTCCCGGAACAAANTGCCGACGCCGGTCGCGNNTTTTCCGTGATCGTTTTTTNNNACGCAGAAGGTGAGCAACACGCTCTTGTTTCCCGCGN',\n",
              " 'GTCCAGCCCCTGCGTATGTACCAGTCCAAGCACGTCCGGTCATTGTTCTACACAGGAACTCTAACTAGGTCAACGCAATTTTATTCCACCGTTACGCATAATACTAACAAAAAAACACACAACTTTAACGAATTACACGTAGTTTATTACATGAAAACTGTAAGCACACCAATTAACTACGCGATACACCATTTAGCTGACTTCCCAGTGCCACACATCACCACTGTATTCATCAATGTTTTCACCGAACCAACGAGACAGCTCGAAGAAGCCAGAATCTCCCGACTCTAAATTACATAGAGCTAAAAGCTACGACTGGGAGTAATTTTACCATCACGCATCGGAAAGATCCGTTGTCAACTAAGTGGAAAACCGGTTTTGGTAACAATCGTTATCAGTGGTTGTGCACCGTTGCGGGTATAGGTAATGCTACTGTGTATGGTAACGCTACTACTTGTGTGTCGAGCTGTGTTAATATTAAGTTGGATTCATGTTCTTTGACGTCGGTGGCTTCGTCCTTCTTCGACTTGTCTCGTTTGATCGGCTAAAACCGGGATGAATATAGTGGTCATGTGTGGCTCCTGTAATCACGCTATATG',\n",
              " 'CCACAATGGAATGTTGCCAAACCGGTTCTTTCCCGTTATAGCCATAGCGTTCCCAGGCAAAAGCAAACGCCAAACCTAATGCAGTGAAAAGCGCTTGCAGCCAGAACCAGCTTATGTACCAGCCACAATCACATCCGGTTATTGTTTCCACAGGAAATCCTACCAGGCAAAGCCCCGCTTGTTGTGTTCCTGACCTTCTTGTTTAGCAATTCGTAAACTGTCAGCCTAGCGACGTCCGTTTAGATCAAAAGTCACGTATATATCGACGCTGTTTCCACCCGTTTCCCTCTCCCGCCGTTTCTGACCGCTTCCTCGTGCTTTACGGTATCGCCGCTCCCGATTCGCAGCGCATCGCCTTCTATCGCCTTCTTGACGAGTTCTTCTGACGAAGTGATCTTCCGTCCCCGGCTCTATACGGGTCTTTTTTTTCTCAGAAGCAAAAGACTCGCAGCAGCCACAATACACCTGATGAAATATTTAACTGAACTCCCGGCGGTCTGTGTGTATATTTCTGTTGGTGGTCGGTTGTCGTATCCCGGGGGGTTTTGTAGGACACGGCGGGACGGGCATACGGGGGGCAAGAGCATGTCTGATTAGTGG']"
            ]
          },
          "metadata": {
            "tags": []
          },
          "execution_count": 7
        }
      ]
    },
    {
      "cell_type": "code",
      "metadata": {
        "id": "URl6c1ynycM4",
        "colab": {
          "base_uri": "https://localhost:8080/"
        },
        "outputId": "7a433e92-c7b4-4f45-e296-2f918384cf02"
      },
      "source": [
        "# compute read lengths\n",
        "lens = fasta.get_lengths()"
      ],
      "execution_count": 8,
      "outputs": [
        {
          "output_type": "stream",
          "text": [
            "Finished Executing extract_seq  in 0.0017118453979492188s!\n",
            "Finished Executing get_lengths  in 0.0018274784088134766s!\n"
          ],
          "name": "stdout"
        }
      ]
    },
    {
      "cell_type": "code",
      "metadata": {
        "id": "_Ut5-vL5ygTB",
        "colab": {
          "base_uri": "https://localhost:8080/"
        },
        "outputId": "cfb27312-e567-4dbc-c472-a8e05bec5ca1"
      },
      "source": [
        "# show the lengths of the first 10 reads\n",
        "lens.take(10)"
      ],
      "execution_count": 9,
      "outputs": [
        {
          "output_type": "execute_result",
          "data": {
            "text/plain": [
              "[523, 600, 599, 600, 599, 600, 600, 529, 600, 538]"
            ]
          },
          "metadata": {
            "tags": []
          },
          "execution_count": 9
        }
      ]
    },
    {
      "cell_type": "code",
      "metadata": {
        "id": "6k79iTP3y9Yw",
        "colab": {
          "base_uri": "https://localhost:8080/"
        },
        "outputId": "93ad2746-7b1f-41c3-d189-5f4d1f155892"
      },
      "source": [
        "# get the average read length\n",
        "len_sum = lens.reduce(lambda x, y: x+y)\n",
        "len_sum//lens.count()"
      ],
      "execution_count": 10,
      "outputs": [
        {
          "output_type": "execute_result",
          "data": {
            "text/plain": [
              "564"
            ]
          },
          "metadata": {
            "tags": []
          },
          "execution_count": 10
        }
      ]
    },
    {
      "cell_type": "code",
      "metadata": {
        "id": "ID1WD1xa5b5t",
        "colab": {
          "base_uri": "https://localhost:8080/"
        },
        "outputId": "086ac622-0bc4-47dd-c805-7980bba4549c"
      },
      "source": [
        "# count base occurance\n",
        "bases = fasta.count_bases()"
      ],
      "execution_count": 11,
      "outputs": [
        {
          "output_type": "stream",
          "text": [
            "Finished Executing extract_seq  in 0.0004017353057861328s!\n",
            "Finished Executing count_bases  in 0.0007264614105224609s!\n"
          ],
          "name": "stdout"
        }
      ]
    },
    {
      "cell_type": "code",
      "metadata": {
        "id": "DtVdRfrTdEbG",
        "colab": {
          "base_uri": "https://localhost:8080/"
        },
        "outputId": "0d39215d-25c5-4fa8-fe04-1cfc73015fe0"
      },
      "source": [
        "\n",
        "bases.take(10)"
      ],
      "execution_count": 12,
      "outputs": [
        {
          "output_type": "execute_result",
          "data": {
            "text/plain": [
              "['CGAACTGAGCTACGATGACCACGAAGTCGAACTATACCGGGCGTTGGACGCTTATCGGGCGCGCATCGCCGTCGAGTACGTGCTGATTCGCGCCGTGCGCGACGAGATCTANNCTNNACTACGACGGGACAGCGGCGCGTTGCCACAGCGTTTCGCCTGCCACGTGCCACGGAACNTGTCNNNNNNNGTTGTTTGGGAACTTTGCCGTNATNNCTTGGCGCTNTGCAGAGCGCCAAGGCNNGANGGNNANNTTCCCAAACAANGCGCCAGGACANGTTCCGTNGNNNNTGGCAGGCGAAACGCTGTGGCAACGCGCCGCTGTCCCGTCGTAGTACAGCGTAGATCTCGTCGCGCACGGCGCGNNNNNGNCCGTACTCNACGGCGATGCGCGCCCGATAAGCGNCNAAAGCCCGGTNANGTTCGACGTCGTGGTCATCGTAGNTCAGNTNGAGNTCGGAAGANNGNNNGGAGGGTAAGAGTTTAGANNNCGGGTGTGTCCGTANACNTAAAAAAANAAATAATA',\n",
              " 'GTCGTTTTGTTCACCGTCGCTGTGCAACGCGTGAAACAAGAGCGTGATGCGCACCTTCGGCGGTATGAAGAACGATTACGGAAAAACCGCGCACGGCGTCGGCAGTCTTTTNNGTNNCTTTGGGCGATGGGTCCGAGCTGCGGTATGGGTCACGGCGGCGTGTGTTTTATTGACGNAGATNNNNNNNTGTGACTAAAAACGTCCCAGCNCCAGAGCGATATGNTTAAATAAAAAAAATANGAAGTATTNTATTATGCGTGTCCTGGTTTTTATTTTTTGGATGNNTNGTNCCCATAAGGGTATGTTTCATCCTCNNACNTCNNCNNCCTTTATGCGANACATACATCCANAAATGAANANNNNGGACACGCATAATATGATACTACATATTTTTTTTATTGAAACATATCGCTCTGGGGCTGGGACGTTTTTAGTCANNNNNCNGCATCTTCGTCAATAAAAAAAACGCCGCCGTGACCNATACCGCCGTCAGGAACCATCACCCAAAGTCCCGGAACAAANTGCCGACGCCGGTCGCGNNTTTTCCGTGATCGTTTTTTNNNACGCAGAAGGTGAGCAACACGCTCTTGTTTCCCGCGN',\n",
              " 'GTCCAGCCCCTGCGTATGTACCAGTCCAAGCACGTCCGGTCATTGTTCTACACAGGAACTCTAACTAGGTCAACGCAATTTTATTCCACCGTTACGCATAATACTAACAAAAAAACACACAACTTTAACGAATTACACGTAGTTTATTACATGAAAACTGTAAGCACACCAATTAACTACGCGATACACCATTTAGCTGACTTCCCAGTGCCACACATCACCACTGTATTCATCAATGTTTTCACCGAACCAACGAGACAGCTCGAAGAAGCCAGAATCTCCCGACTCTAAATTACATAGAGCTAAAAGCTACGACTGGGAGTAATTTTACCATCACGCATCGGAAAGATCCGTTGTCAACTAAGTGGAAAACCGGTTTTGGTAACAATCGTTATCAGTGGTTGTGCACCGTTGCGGGTATAGGTAATGCTACTGTGTATGGTAACGCTACTACTTGTGTGTCGAGCTGTGTTAATATTAAGTTGGATTCATGTTCTTTGACGTCGGTGGCTTCGTCCTTCTTCGACTTGTCTCGTTTGATCGGCTAAAACCGGGATGAATATAGTGGTCATGTGTGGCTCCTGTAATCACGCTATATG',\n",
              " 'CCACAATGGAATGTTGCCAAACCGGTTCTTTCCCGTTATAGCCATAGCGTTCCCAGGCAAAAGCAAACGCCAAACCTAATGCAGTGAAAAGCGCTTGCAGCCAGAACCAGCTTATGTACCAGCCACAATCACATCCGGTTATTGTTTCCACAGGAAATCCTACCAGGCAAAGCCCCGCTTGTTGTGTTCCTGACCTTCTTGTTTAGCAATTCGTAAACTGTCAGCCTAGCGACGTCCGTTTAGATCAAAAGTCACGTATATATCGACGCTGTTTCCACCCGTTTCCCTCTCCCGCCGTTTCTGACCGCTTCCTCGTGCTTTACGGTATCGCCGCTCCCGATTCGCAGCGCATCGCCTTCTATCGCCTTCTTGACGAGTTCTTCTGACGAAGTGATCTTCCGTCCCCGGCTCTATACGGGTCTTTTTTTTCTCAGAAGCAAAAGACTCGCAGCAGCCACAATACACCTGATGAAATATTTAACTGAACTCCCGGCGGTCTGTGTGTATATTTCTGTTGGTGGTCGGTTGTCGTATCCCGGGGGGTTTTGTAGGACACGGCGGGACGGGCATACGGGGGGCAAGAGCATGTCTGATTAGTGG',\n",
              " 'TGGTGGTATTCTGGGCCAGGAACCCCAGAATGGTGTTGAAGGCCTCTTTCTTGATGAAGTGCGCCTCGTCCACCAGCAGCAAGTGGAAGTTTTGTCCTCGGATGCTCTGTGTAGAGAGGAGACAGAAACGGGACTCTTATGATTACGCACGCTCGGCTGGAAGCCTACAGAGTCGGGGTGGGGCCGGACAGGTGAGCCAGGTGAGCCGCCTGGTGAGGCGGGATCGCCGTGTGCCAACCGGGCTGCGACCTGAAAACCGGAACCAATCCGCCGCCAGCGGCGCCGCGCTACCCGCGCCCCCCCCAGTCGGTTGAGTTCCGCCAGCAACGAGTTCATGGCGGCTGTGGCGGGTCCCGACGACGACACTTTCTGTTTTATGGGCGCTCGTCTCTCGGCGCCGGGGTCGGCGGGGTGGTTCCGGTCTTCCAGTTGCCGCCCCGGTTGCACACGGCCAATCCGCCTCCCCCGGCGGCTCCACGTGCCCACCTGGCCGTCCCCACCCCCCCCCTGTTGGCTCCCAGCCGCCGCGGCGGACTCCTAAGGATCTCTCTTTCTTCCCCGTCCTCCCACGAGCCTCCTCTCACGCTACTACCCCTTCC',\n",
              " 'TCCTCGCACGAGGGCAGCAGACCCGAGGTGCCGGGGATGTAGTGGACTACGCGGTGCCGTTCACCCTCCCAACCGCAGTTTATACTGCGCAACCTGGAGGGATCGGGCGTCCNCANNTACCGCGTCTGTGAGCGCGATCCGAAAGCAAGGTCGCAGGAGCGGTCCGAGTGGCGTAGGTCGNNCACGTCGGCCACCAGCGCCGTGGTCTCGGTCGCCAGGCTGTGGGTCTCGTTGCCCAGCACGCGGGTGTAGGTGCCCGCGGTCTCGGTGCTGCGCCGAAACGAGAGGCTCCGCCGAGGGGTTACATCGCCGGCGCGCGCTGNCGNTTCGAGGACGGCGGCGCGGTGCCNCGGCTGGNCCNNNCGTTTCGGCTCCTCACCGAGACCACGGCCACCTCCCCCTGCCTCCTGGGCACCGAGCCCCACCGCCCTTCGGCCNNNNNCCCGGCGCTGGTGGCCGCCGTTCCCGCCCAACGCCACCCGGACCGCCCCTCCAGCACGGCTTTTGGAGCGACCGCCACGACCACGGACAAGTGTACGCTCGAAACCCCCCGGTTCCGCCNCTCACACGCTGAGTGGGGCGGTGACCGCAACGGCCGTC',\n",
              " 'TGTCTCAGATTCCGGTGGAGCGCCAGGCGCTGACGGAGCTGGAATACCAGGCCATGGGCGCCGTGTGGCGCGCGGCGTTTTTGGCCAACAGCACGGGCCGCGCCATGCGCAAGTGGTCGCAGCGCGACGCGGGCACGCTGCTGCCGCTCGGACGGCCGTACGGATTCTACGCGCGGGTGACGCCGCGCAGCCAGATGAACGGCGTGGGCGCGACGGACCTGCGTCAGCTGTCGCCGCGGGACGCGTGGATCGTGCTGGTGGCGACCGGGGTGCACGCGGTGGGTCCCGCGGCCGACCCGGGTCGCCCACCGTCGGGTCGGCCGCGGGGTCCACCTCGTTCACCACGGTCGCCACCAGCACGATCCACGCGTCCCGCGGCGACAGCTGACGCAGGTCCGTCGCGCCCCCGCCGTTCATCTGGCTGCGCGGCGTCACCCGCGCGTAGAATCCGTACGGCCGTCCGAGCGGCACCAGCGTGCCCGCGTCGCGCTGCGACCCCTTGCGCCTGGCGCGGCCCGTACTCTTTGCCCATACCGCCTCGCGCCCCCCCTCGCCCCTGGCCTGGTACTCCACCTCCGGCCCCCCCTGCACCCCCCCCGG',\n",
              " 'ACGGCATTATGAGCGGCGGCGCTGTACGGCAGCGGGGAGAAAAGTGGCAGATAAATCACGTCAGGTTCACACGTCGTTAGCCAGCGTCGGCATATGAAGGGCGCGGGCGGCCAGTACGGCCTCTGGGCTGAGACAGGACGAGGCAGGGTGAGAAAGAGGAGGATGGGGGGGACCGGGGTGGTGGTGCTGTTGCTGTTGTGGGTGCGGACGGTGCGGGTGCCGGGACAGCGCGCTGTCCCGGCACCCGCACCGTCCGCACCCACAACAGCAACAGCACCACCACCCCGGTCCCCCCCATCCTCCTCTTTCTCACCCTGCCTCGTCCTGTCTCAGCCCAGAGGCCGTACTGGCCGCCCGCCCCCTTCCTATGCCGACGCTGGCTAACGACGTGTGAACCTGCCGTGATTTATCTGCAACTTTTCTCCCCGCTGCCGTACAGCGCCGCCCCTCCTACCGCCTGCGCTCGGCAGAGCGTCGGTGAGGGAAAGAGTGTAGTTCTCGGTGGTCCGCGTCCCGTTAAAAAAAAAAC',\n",
              " 'CAATCAACCGTGGTCCGCTCTGAGCCGGCTCCGCCGTCGGAAACCCGACGAGACAACAATGACACGTCTTACTTCAGCGGCCCCTCTTTCCATTCTTCCGTGTCCCCTGCCACCTCAGTGGACCGTCAATTTCGACGGACCACGTACGACCGTTGGGACGGTCGACGTTGGCTGCGCACCCGCTCCGGGAACGCCAGCGCCTGCGTGACGGGCACCCAATGGCGCACCCACTTTTTTTTCTCTCAATGTGAGCACTTCCCTAGGTCTGCGAGCTGGGACGACCACACGTCTGACCTCCCGCACGAAACTAGGGTAGTGCTCACACTGAGAGAAAAAAAAGTTGGTGCTCCATTGGGTGCCCGTCACGCAGGCGCTGGTGTTCCCGTAGCGGGTGCGCAGCCAACGTCGACCGTCCCAACGCTCGTACGTGGTCCGTCGAAATTGACGGTCCACTGGGGTGGCCGGGGACACGGAAGAATGGAAAGGGGTGCCGCTGACGTAAGACGGGTCATTGTTGTATAGTCGGGTTTCCGCCTGCGGAGCAGGCCTCAGGCGGACCCAGGTTGCTTGAGACGGGGCGGGCGTAGCGGGGGGGGAGGG',\n",
              " 'CGAAGAAGCCAGAATCTCCCGACTTTAAATTACATAAATCCAACGTATTATGACAACAGCTCGACACACAAATAGTTGCGTTACCATTCACAGTAGCATTACCTATACCCGTAACGTTGCACAACCACTGATCACCATTGTTACCAAAAACGGTTTTCCACTTAGTTGTCAACGGATCTTTCCTATGCGTAATGGTAAAATTACTCCCAGTCGTCGCTTTTAGCTCATTACGAGTATTATCCGCATCCACATATATCAACGTCATAGCTAGCTATGACGTTGATATATGTGGATGCGGATAATACTCGTAATGAGCTAAAAGCGACGACTGGGAGTAATTTTACCATTACGCATAGGAAAGATCCGTTGACAACTAAGTGGAAAACCGTTTTTGGTAACAATGGTGATCAGTGGTTGTGCAACGTTACGGGTATAGGTAATGCTACTGTGAATGGTAACGCAACTATTTGTGTGTCGAGCTGTGGTCATCATACGTTGGATTTATGTAATTTAAAGTCGGGAGATCCTGGCTTCTTTG']"
            ]
          },
          "metadata": {
            "tags": []
          },
          "execution_count": 12
        }
      ]
    }
  ]
}